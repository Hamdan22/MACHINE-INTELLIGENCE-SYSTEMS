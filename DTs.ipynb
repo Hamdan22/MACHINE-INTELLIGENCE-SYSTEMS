{
  "metadata": {
    "kernelspec": {
      "name": "python",
      "display_name": "Python (Pyodide)",
      "language": "python"
    },
    "language_info": {
      "codemirror_mode": {
        "name": "python",
        "version": 3
      },
      "file_extension": ".py",
      "mimetype": "text/x-python",
      "name": "python",
      "nbconvert_exporter": "python",
      "pygments_lexer": "ipython3",
      "version": "3.8"
    }
  },
  "nbformat_minor": 4,
  "nbformat": 4,
  "cells": [
    {
      "cell_type": "code",
      "source": "import pandas as pd\nfrom sklearn.model_selection import train_test_split\nfrom sklearn.tree import DecisionTreeClassifier\nfrom sklearn.metrics import accuracy_score, classification_report\nfrom sklearn.preprocessing import LabelEncoder\n\n# Load the dataset from the CSV file\nfile_path = 'Caesarian Section Classification Dataset(CSV).csv'  # Replace with your actual file path\ndf = pd.read_csv(file_path)\n\n# Clean 'Caesarian' column\ndf['Caesarian'] = df['Caesarian'].replace({'yes': 'Yes', 'apt': 'No'})\n\n# Check for null values\nnull_values = df.isnull().sum()\nprint(\"Null Values:\\n\", null_values)\n\n# Drop rows with null values\ndf = df.dropna()\n\n# Data preprocessing\nX = df.drop('Caesarian', axis=1)\ny = LabelEncoder().fit_transform(df['Caesarian'])\n\nX_encoded = pd.get_dummies(X)\n\n# Split the data into training and testing sets\nX_train, X_test, y_train, y_test = train_test_split(X_encoded, y, test_size=0.2, random_state=42)\n\n# Decision Tree model\ndt_model = DecisionTreeClassifier(random_state=42)\ndt_model.fit(X_train, y_train)\n\n# Model evaluation\ny_pred = dt_model.predict(X_test)\naccuracy = accuracy_score(y_test, y_pred)\nreport = classification_report(y_test, y_pred)\n\nprint(f'Decision Tree Accuracy: {accuracy}')\nprint('Decision Tree Classification Report:')\nprint(report)",
      "metadata": {
        "trusted": true
      },
      "outputs": [
        {
          "name": "stdout",
          "text": "Null Values:\n Age                  0\nDelivey No           0\nDelivery No          0\nBlood of Pressure    0\nHeart Problem        0\nCaesarian            0\ndtype: int64\nDecision Tree Accuracy: 0.5625\nDecision Tree Classification Report:\n              precision    recall  f1-score   support\n\n           0       0.40      0.33      0.36         6\n           1       0.64      0.70      0.67        10\n\n    accuracy                           0.56        16\n   macro avg       0.52      0.52      0.52        16\nweighted avg       0.55      0.56      0.55        16\n\n",
          "output_type": "stream"
        }
      ],
      "execution_count": 2
    },
    {
      "cell_type": "code",
      "source": "",
      "metadata": {
        "trusted": true
      },
      "outputs": [],
      "execution_count": null
    }
  ]
}
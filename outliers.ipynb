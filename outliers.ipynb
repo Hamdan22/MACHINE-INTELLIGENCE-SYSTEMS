{
  "metadata": {
    "kernelspec": {
      "name": "python",
      "display_name": "Python (Pyodide)",
      "language": "python"
    },
    "language_info": {
      "codemirror_mode": {
        "name": "python",
        "version": 3
      },
      "file_extension": ".py",
      "mimetype": "text/x-python",
      "name": "python",
      "nbconvert_exporter": "python",
      "pygments_lexer": "ipython3",
      "version": "3.8"
    }
  },
  "nbformat_minor": 4,
  "nbformat": 4,
  "cells": [
    {
      "cell_type": "code",
      "source": "import pandas as pd\nfrom sklearn.model_selection import train_test_split\nfrom sklearn.neighbors import KNeighborsClassifier\nfrom sklearn.metrics import accuracy_score, classification_report\nfrom sklearn.preprocessing import LabelEncoder\nfrom scipy.stats import zscore\n\n# Load the dataset from the CSV file\nfile_path = 'Caesarian Section Classification Dataset(CSV).csv' \ndf = pd.read_csv(file_path)\n\n# Find null values in the dataset\nnull_values = df.isnull().sum()\nprint(\"Null Values:\\n\", null_values)\n\n# Handling null values by imputing with mean (you can choose a different strategy)\ndf_filled = df.fillna(df.mean())\n\n# Data preprocessing\nX = df_filled.drop('Caesarian', axis=1)\ny = LabelEncoder().fit_transform(df_filled['Caesarian'])\n\nX_encoded = pd.get_dummies(X)\n\n# Split the data into training and testing sets\nX_train, X_test, y_train, y_test = train_test_split(X_encoded, y, test_size=0.2, random_state=42)\n\n# k-Nearest Neighbors model\nknn_model = KNeighborsClassifier(n_neighbors=3)  # You can choose the number of neighbors (k)\nknn_model.fit(X_train, y_train)\n\n# Model evaluation\ny_pred_knn = knn_model.predict(X_test)\naccuracy_knn = accuracy_score(y_test, y_pred_knn)\nreport_knn = classification_report(y_test, y_pred_knn)\n\nprint(f'k-Nearest Neighbors Accuracy: {accuracy_knn}')\nprint('k-Nearest Neighbors Classification Report:')\nprint(report_knn)\n\n\n\n",
      "metadata": {
        "trusted": true
      },
      "outputs": [
        {
          "name": "stdout",
          "text": "Null Values:\n Age                  0\nDelivey No           0\nDelivery No          0\nBlood of Pressure    0\nHeart Problem        0\nCaesarian            0\ndtype: int64\n",
          "output_type": "stream"
        },
        {
          "name": "stderr",
          "text": "<ipython-input-5-607db77ba344>:17: FutureWarning: The default value of numeric_only in DataFrame.mean is deprecated. In a future version, it will default to False. In addition, specifying 'numeric_only=None' is deprecated. Select only valid columns or specify the value of numeric_only to silence this warning.\n  df_filled = df.fillna(df.mean())\n/lib/python3.11/site-packages/sklearn/metrics/_classification.py:1469: UndefinedMetricWarning: Precision and F-score are ill-defined and being set to 0.0 in labels with no predicted samples. Use `zero_division` parameter to control this behavior.\n  _warn_prf(average, modifier, msg_start, len(result))\n/lib/python3.11/site-packages/sklearn/metrics/_classification.py:1469: UndefinedMetricWarning: Precision and F-score are ill-defined and being set to 0.0 in labels with no predicted samples. Use `zero_division` parameter to control this behavior.\n  _warn_prf(average, modifier, msg_start, len(result))\n/lib/python3.11/site-packages/sklearn/metrics/_classification.py:1469: UndefinedMetricWarning: Precision and F-score are ill-defined and being set to 0.0 in labels with no predicted samples. Use `zero_division` parameter to control this behavior.\n  _warn_prf(average, modifier, msg_start, len(result))\n",
          "output_type": "stream"
        },
        {
          "name": "stdout",
          "text": "k-Nearest Neighbors Accuracy: 0.625\nk-Nearest Neighbors Classification Report:\n              precision    recall  f1-score   support\n\n           0       0.57      0.67      0.62         6\n           1       0.67      0.67      0.67         9\n           2       0.00      0.00      0.00         1\n\n    accuracy                           0.62        16\n   macro avg       0.41      0.44      0.43        16\nweighted avg       0.59      0.62      0.61        16\n\n",
          "output_type": "stream"
        }
      ],
      "execution_count": 5
    },
    {
      "cell_type": "code",
      "source": "import pandas as pd\nimport numpy as np\n\n# Load the dataset from Excel file\nfile_path = 'Caesarian Section Classification Dataset(CSV).csv' \ndf = pd.read_csv(file_path)\n\ndef find_outliers_zscore (data, threshold=2):\n    z_scores = np.abs ((data -data.mean()) / data.std())\n    return data[z_scores > threshold]\nnumeric_columns = df.select_dtypes (include=np.number) .columns\nfor column in numeric_columns:\n    outliers = find_outliers_zscore(df[column])\n    print (f\"Outliers in {column}:\")\n    print (outliers)\n",
      "metadata": {
        "trusted": true
      },
      "outputs": [
        {
          "name": "stdout",
          "text": "Outliers in Age:\n31    40\n70    17\n74    38\nName: Age, dtype: int64\nOutliers in Delivey No:\n44    4\n76    4\nName: Delivey No, dtype: int64\n",
          "output_type": "stream"
        }
      ],
      "execution_count": 26
    },
    {
      "cell_type": "code",
      "source": "",
      "metadata": {
        "trusted": true
      },
      "outputs": [],
      "execution_count": null
    },
    {
      "cell_type": "code",
      "source": "",
      "metadata": {
        "trusted": true
      },
      "outputs": [],
      "execution_count": null
    }
  ]
}